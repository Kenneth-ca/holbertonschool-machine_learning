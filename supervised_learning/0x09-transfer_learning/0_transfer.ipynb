{
  "nbformat": 4,
  "nbformat_minor": 0,
  "metadata": {
    "colab": {
      "name": "0-transfer.ipynb",
      "provenance": []
    },
    "kernelspec": {
      "name": "python3",
      "display_name": "Python 3"
    },
    "accelerator": "GPU"
  },
  "cells": [
    {
      "cell_type": "code",
      "metadata": {
        "id": "5JQOuDdppeW4",
        "colab_type": "code",
        "colab": {
          "base_uri": "https://localhost:8080/",
          "height": 394
        },
        "outputId": "0f03afa8-bdd1-4d85-9857-195c4065708d"
      },
      "source": [
        "#!/usr/bin/env python3\n",
        "\"\"\"\n",
        "Trains a convolutional neural network to classify the CIFAR 10 dataset:\n",
        "\"\"\"\n",
        "%tensorflow_version 1.x\n",
        "import tensorflow.keras as K\n",
        "\n",
        "\n",
        "def preprocess_data(X, Y):\n",
        "    \"\"\"\n",
        "    a function that trains a convolutional neural network to classify the\n",
        "    CIFAR 10 dataset\n",
        "    :param X: X is a numpy.ndarray of shape (m, 32, 32, 3) containing the\n",
        "    CIFAR 10 data, where m is the number of data points\n",
        "    :param Y: Y is a numpy.ndarray of shape (m,) containing the CIFAR 10\n",
        "    labels for X\n",
        "    :return: X_p, Y_p\n",
        "        X_p is a numpy.ndarray containing the preprocessed X\n",
        "        Y_p is a numpy.ndarray containing the preprocessed Y\n",
        "    \"\"\"\n",
        "    X_p = K.applications.resnet50.preprocess_input(X)\n",
        "    Y_p = K.utils.to_categorical(Y, 10)\n",
        "    return X_p, Y_p\n",
        "\n",
        "\n",
        "if __name__ == \"__main__\":\n",
        "    (x_train, y_train), _ = K.datasets.cifar10.load_data()\n",
        "    print((x_train.shape, y_train.shape))\n",
        "    x_train, y_train = preprocess_data(x_train, y_train)\n",
        "    print((x_train.shape, y_train.shape))\n",
        "\n",
        "    input_tensor = K.Input(shape=(32, 32, 3))\n",
        "    # ResNet50 works best with 224 x 224 images\n",
        "    x = K.layers.UpSampling2D((2, 2))(input_tensor)\n",
        "    x = K.layers.UpSampling2D((2, 2))(x)\n",
        "    x = K.layers.UpSampling2D((2, 2))(x)\n",
        "    model = K.applications.ResNet50(include_top=False,\n",
        "                                    weights=\"imagenet\",\n",
        "                                    input_tensor=x)\n",
        "\n",
        "    last_layer = model.layers[-1].output\n",
        "\n",
        "    FC = K.layers.Flatten()(last_layer)\n",
        "    FC = K.layers.BatchNormalization()(FC)\n",
        "    FC = K.layers.Dense(128, activation='relu')(FC)\n",
        "    FC = K.layers.Dropout(0.5)(FC)\n",
        "    FC = K.layers.BatchNormalization()(FC)\n",
        "    FC = K.layers.Dense(64, activation='relu')(FC)\n",
        "    FC = K.layers.Dropout(0.5)(FC)\n",
        "    FC = K.layers.BatchNormalization()(FC)\n",
        "    FC = K.layers.Dense(units=10, activation=\"softmax\")(FC)\n",
        "\n",
        "    model = K.models.Model(inputs=model.input, outputs=FC)\n",
        "\n",
        "    check_point = K.callbacks.ModelCheckpoint(filepath=\"cifar10.h5\",\n",
        "                                              monitor=\"acc\",\n",
        "                                              mode=\"max\",\n",
        "                                              save_best_only=True,\n",
        "                                              )\n",
        "\n",
        "    model.compile(loss='categorical_crossentropy',\n",
        "                  optimizer=K.optimizers.RMSprop(lr=2e-5),\n",
        "                  metrics=['accuracy'])\n",
        "    history = model.fit(x_train, y_train, batch_size=32, epochs=5, verbose=1,\n",
        "                        callbacks=[check_point])\n",
        "    model.save(\"cifar10.h5\")"
      ],
      "execution_count": 1,
      "outputs": [
        {
          "output_type": "stream",
          "text": [
            "TensorFlow 1.x selected.\n",
            "Downloading data from https://www.cs.toronto.edu/~kriz/cifar-10-python.tar.gz\n",
            "170500096/170498071 [==============================] - 6s 0us/step\n",
            "((50000, 32, 32, 3), (50000, 1))\n",
            "((50000, 32, 32, 3), (50000, 10))\n",
            "WARNING:tensorflow:From /tensorflow-1.15.2/python3.6/tensorflow_core/python/ops/resource_variable_ops.py:1630: calling BaseResourceVariable.__init__ (from tensorflow.python.ops.resource_variable_ops) with constraint is deprecated and will be removed in a future version.\n",
            "Instructions for updating:\n",
            "If using Keras pass *_constraint arguments to layers.\n",
            "Downloading data from https://github.com/keras-team/keras-applications/releases/download/resnet/resnet50_weights_tf_dim_ordering_tf_kernels_notop.h5\n",
            "94773248/94765736 [==============================] - 4s 0us/step\n",
            "Train on 50000 samples\n",
            "Epoch 1/5\n",
            "50000/50000 [==============================] - 452s 9ms/sample - loss: 1.4107 - acc: 0.5395\n",
            "Epoch 2/5\n",
            "50000/50000 [==============================] - 416s 8ms/sample - loss: 0.7774 - acc: 0.7921\n",
            "Epoch 3/5\n",
            "50000/50000 [==============================] - 416s 8ms/sample - loss: 0.5436 - acc: 0.8759\n",
            "Epoch 4/5\n",
            "50000/50000 [==============================] - 417s 8ms/sample - loss: 0.4059 - acc: 0.9177\n",
            "Epoch 5/5\n",
            "50000/50000 [==============================] - 417s 8ms/sample - loss: 0.3074 - acc: 0.9432\n"
          ],
          "name": "stdout"
        }
      ]
    },
    {
      "cell_type": "code",
      "metadata": {
        "id": "gNF9LDF6uhRN",
        "colab_type": "code",
        "colab": {
          "base_uri": "https://localhost:8080/",
          "height": 224
        },
        "outputId": "585667ad-ae2a-4d2e-bde3-ff64d12182e1"
      },
      "source": [
        "# preprocess_data = __import__('0-transfer').preprocess_data\n",
        "\n",
        "# fix issue with saving keras applications\n",
        "K.learning_phase = K.backend.learning_phase\n",
        "\n",
        "_, (X, Y) = K.datasets.cifar10.load_data()\n",
        "X_p, Y_p = preprocess_data(X, Y)\n",
        "model = K.models.load_model('cifar10.h5')\n",
        "model.evaluate(X_p, Y_p, batch_size=128, verbose=1)"
      ],
      "execution_count": 2,
      "outputs": [
        {
          "output_type": "stream",
          "text": [
            "WARNING:tensorflow:From /tensorflow-1.15.2/python3.6/tensorflow_core/python/ops/init_ops.py:97: calling GlorotUniform.__init__ (from tensorflow.python.ops.init_ops) with dtype is deprecated and will be removed in a future version.\n",
            "Instructions for updating:\n",
            "Call initializer instance with the dtype argument instead of passing it to the constructor\n",
            "WARNING:tensorflow:From /tensorflow-1.15.2/python3.6/tensorflow_core/python/ops/init_ops.py:97: calling Zeros.__init__ (from tensorflow.python.ops.init_ops) with dtype is deprecated and will be removed in a future version.\n",
            "Instructions for updating:\n",
            "Call initializer instance with the dtype argument instead of passing it to the constructor\n",
            "WARNING:tensorflow:From /tensorflow-1.15.2/python3.6/tensorflow_core/python/ops/init_ops.py:97: calling Ones.__init__ (from tensorflow.python.ops.init_ops) with dtype is deprecated and will be removed in a future version.\n",
            "Instructions for updating:\n",
            "Call initializer instance with the dtype argument instead of passing it to the constructor\n",
            "10000/10000 [==============================] - 22s 2ms/sample - loss: 0.1875 - acc: 0.9492\n"
          ],
          "name": "stdout"
        },
        {
          "output_type": "execute_result",
          "data": {
            "text/plain": [
              "[0.1874579804778099, 0.9492]"
            ]
          },
          "metadata": {
            "tags": []
          },
          "execution_count": 2
        }
      ]
    },
    {
      "cell_type": "code",
      "metadata": {
        "id": "OINS8vh-u2-I",
        "colab_type": "code",
        "colab": {
          "base_uri": "https://localhost:8080/",
          "height": 545
        },
        "outputId": "bde297b1-3351-4568-cc0a-6343840ff95e"
      },
      "source": [
        "import matplotlib.pyplot as plt\n",
        "\n",
        "acc = history.history['acc']\n",
        "loss = history.history['loss']\n",
        "\n",
        "epochs = range(len(acc))\n",
        "\n",
        "plt.plot(epochs, acc, 'b', label='Training acc')\n",
        "plt.title('Training and validation accuracy')\n",
        "plt.legend()\n",
        "\n",
        "plt.figure()\n",
        "\n",
        "plt.plot(epochs, loss, 'r', label='Training loss')\n",
        "plt.title('Training and validation loss')\n",
        "plt.legend()\n",
        "\n",
        "plt.show()"
      ],
      "execution_count": 4,
      "outputs": [
        {
          "output_type": "display_data",
          "data": {
            "image/png": "[encoded data removed]",
            "text/plain": [
              "<Figure size 432x288 with 1 Axes>"
            ]
          },
          "metadata": {
            "tags": [],
            "needs_background": "light"
          }
        },
        {
          "output_type": "display_data",
          "data": {
            "image/png": "[encoded data removed]",
            "text/plain": [
              "<Figure size 432x288 with 1 Axes>"
            ]
          },
          "metadata": {
            "tags": [],
            "needs_background": "light"
          }
        }
      ]
    }
  ]
}